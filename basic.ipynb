{
 "cells": [
  {
   "cell_type": "markdown",
   "id": "2eb3efc9",
   "metadata": {},
   "source": [
    "# Creating a robot object to access services with"
   ]
  },
  {
   "cell_type": "markdown",
   "id": "56316a4b",
   "metadata": {},
   "source": [
    "https://dev.bostondynamics.com/docs/python/understanding_spot_programming#create-the-sdk-object\n",
    "\n",
    "Start by creating an sdk object and robot for a given ip."
   ]
  },
  {
   "cell_type": "code",
   "execution_count": 1,
   "id": "e8b2bab5",
   "metadata": {},
   "outputs": [],
   "source": [
    "import bosdyn.client\n",
    "sdk = bosdyn.client.create_standard_sdk('understanding-spot')"
   ]
  },
  {
   "cell_type": "code",
   "execution_count": 2,
   "id": "d801c8b1",
   "metadata": {},
   "outputs": [],
   "source": [
    "robot = sdk.create_robot('192.168.80.3')"
   ]
  },
  {
   "cell_type": "markdown",
   "id": "b09313ab",
   "metadata": {},
   "source": [
    "The robot-id service provides metadata about the robot. This includes:\n",
    "-serial number\n",
    "- Type of robot (eg: spot)\n",
    "- Robot version\n",
    "- Version information\n",
    "- Nickname\n",
    "- Computer serial number\n",
    "\n",
    "The robot.ensure_client() method will create an object for calling the service.\n",
    "Calling id_client.get_id() will execute the RPC and is blocking. It accepts an optional timeout argument."
   ]
  },
  {
   "cell_type": "code",
   "execution_count": 5,
   "id": "8cdf2ec7",
   "metadata": {
    "scrolled": true
   },
   "outputs": [
    {
     "ename": "UnableToConnectToRobotError",
     "evalue": "_InactiveRpcError: The robot may be offline or otherwise unreachable.",
     "output_type": "error",
     "traceback": [
      "\u001b[0;31m---------------------------------------------------------------------------\u001b[0m",
      "\u001b[0;31mUnableToConnectToRobotError\u001b[0m               Traceback (most recent call last)",
      "\u001b[0;32m/tmp/ipykernel_5301/2429178383.py\u001b[0m in \u001b[0;36m<module>\u001b[0;34m\u001b[0m\n\u001b[1;32m      1\u001b[0m \u001b[0mid_client\u001b[0m \u001b[0;34m=\u001b[0m \u001b[0mrobot\u001b[0m\u001b[0;34m.\u001b[0m\u001b[0mensure_client\u001b[0m\u001b[0;34m(\u001b[0m\u001b[0;34m'robot-id'\u001b[0m\u001b[0;34m)\u001b[0m\u001b[0;34m\u001b[0m\u001b[0;34m\u001b[0m\u001b[0m\n\u001b[0;32m----> 2\u001b[0;31m \u001b[0mid_client\u001b[0m\u001b[0;34m.\u001b[0m\u001b[0mget_id\u001b[0m\u001b[0;34m(\u001b[0m\u001b[0;34m)\u001b[0m\u001b[0;34m\u001b[0m\u001b[0;34m\u001b[0m\u001b[0m\n\u001b[0m",
      "\u001b[0;32m~/code/spot/spot_env/lib/python3.7/site-packages/bosdyn/client/robot_id.py\u001b[0m in \u001b[0;36mget_id\u001b[0;34m(self, **kwargs)\u001b[0m\n\u001b[1;32m     34\u001b[0m         \u001b[0mreq\u001b[0m \u001b[0;34m=\u001b[0m \u001b[0mrobot_id_pb2\u001b[0m\u001b[0;34m.\u001b[0m\u001b[0mRobotIdRequest\u001b[0m\u001b[0;34m(\u001b[0m\u001b[0;34m)\u001b[0m\u001b[0;34m\u001b[0m\u001b[0;34m\u001b[0m\u001b[0m\n\u001b[1;32m     35\u001b[0m         return self.call(self._stub.GetRobotId, req, value_from_response=_get_entry_value,\n\u001b[0;32m---> 36\u001b[0;31m                          error_from_response=common_header_errors, **kwargs)\n\u001b[0m\u001b[1;32m     37\u001b[0m \u001b[0;34m\u001b[0m\u001b[0m\n\u001b[1;32m     38\u001b[0m     \u001b[0;32mdef\u001b[0m \u001b[0mget_id_async\u001b[0m\u001b[0;34m(\u001b[0m\u001b[0mself\u001b[0m\u001b[0;34m,\u001b[0m \u001b[0;34m**\u001b[0m\u001b[0mkwargs\u001b[0m\u001b[0;34m)\u001b[0m\u001b[0;34m:\u001b[0m\u001b[0;34m\u001b[0m\u001b[0;34m\u001b[0m\u001b[0m\n",
      "\u001b[0;32m~/code/spot/spot_env/lib/python3.7/site-packages/bosdyn/client/common.py\u001b[0m in \u001b[0;36mprocessor\u001b[0;34m(self, rpc_method, request, value_from_response, error_from_response, **kwargs)\u001b[0m\n\u001b[1;32m    233\u001b[0m \u001b[0;34m\u001b[0m\u001b[0m\n\u001b[1;32m    234\u001b[0m         return func(self, rpc_method, request, value_from_response=value_from_response,\n\u001b[0;32m--> 235\u001b[0;31m                     error_from_response=error_from_response, **kwargs)\n\u001b[0m\u001b[1;32m    236\u001b[0m \u001b[0;34m\u001b[0m\u001b[0m\n\u001b[1;32m    237\u001b[0m     \u001b[0;32mreturn\u001b[0m \u001b[0mprocessor\u001b[0m\u001b[0;34m\u001b[0m\u001b[0;34m\u001b[0m\u001b[0m\n",
      "\u001b[0;32m~/code/spot/spot_env/lib/python3.7/site-packages/bosdyn/client/common.py\u001b[0m in \u001b[0;36mcall\u001b[0;34m(self, rpc_method, request, value_from_response, error_from_response, **kwargs)\u001b[0m\n\u001b[1;32m    343\u001b[0m             \u001b[0;31m# Use the \"raise from None\" pattern to reset the exception's context, which produces\u001b[0m\u001b[0;34m\u001b[0m\u001b[0;34m\u001b[0m\u001b[0;34m\u001b[0m\u001b[0m\n\u001b[1;32m    344\u001b[0m             \u001b[0;31m# confusing stack traces.\u001b[0m\u001b[0;34m\u001b[0m\u001b[0;34m\u001b[0m\u001b[0;34m\u001b[0m\u001b[0m\n\u001b[0;32m--> 345\u001b[0;31m             \u001b[0msix\u001b[0m\u001b[0;34m.\u001b[0m\u001b[0mraise_from\u001b[0m\u001b[0;34m(\u001b[0m\u001b[0mtranslate_exception\u001b[0m\u001b[0;34m(\u001b[0m\u001b[0me\u001b[0m\u001b[0;34m)\u001b[0m\u001b[0;34m,\u001b[0m \u001b[0;32mNone\u001b[0m\u001b[0;34m)\u001b[0m\u001b[0;34m\u001b[0m\u001b[0;34m\u001b[0m\u001b[0m\n\u001b[0m\u001b[1;32m    346\u001b[0m \u001b[0;34m\u001b[0m\u001b[0m\n\u001b[1;32m    347\u001b[0m         if isinstance(rpc_method, grpc.UnaryStreamMultiCallable) or isinstance(\n",
      "\u001b[0;32m~/code/spot/spot_env/lib/python3.7/site-packages/six.py\u001b[0m in \u001b[0;36mraise_from\u001b[0;34m(value, from_value)\u001b[0m\n",
      "\u001b[0;31mUnableToConnectToRobotError\u001b[0m: _InactiveRpcError: The robot may be offline or otherwise unreachable."
     ]
    }
   ],
   "source": [
    "id_client = robot.ensure_client('robot-id')\n",
    "id_client.get_id()"
   ]
  },
  {
   "cell_type": "markdown",
   "id": "4a2e58e1",
   "metadata": {},
   "source": [
    "All RPC calls require authentication, except for get_id().\n",
    "The python API wraps around the RPC calls, meaning you don't have to set all the protobuf fields yourself.\n",
    "Calling robot.authentica(...) will call the required authenticate service and get the credentials to provide with further RPC calls."
   ]
  },
  {
   "cell_type": "code",
   "execution_count": null,
   "id": "a4369f61",
   "metadata": {
    "scrolled": true
   },
   "outputs": [],
   "source": [
    "robot.authenticate('kuno', 'password')"
   ]
  },
  {
   "cell_type": "markdown",
   "id": "869fab83",
   "metadata": {},
   "source": [
    "The protobuf message for the robot state is given here:\n",
    "https://dev.bostondynamics.com/protos/bosdyn/api/proto_reference#robot-state-proto"
   ]
  },
  {
   "cell_type": "code",
   "execution_count": null,
   "id": "60f8f323",
   "metadata": {},
   "outputs": [],
   "source": [
    "state_client = robot.ensure_client('robot-state')\n",
    "state_client.get_robot_state()"
   ]
  },
  {
   "cell_type": "markdown",
   "id": "2f158e49",
   "metadata": {},
   "source": [
    "# Capture and view camera images"
   ]
  },
  {
   "cell_type": "code",
   "execution_count": null,
   "id": "4e95da02",
   "metadata": {},
   "outputs": [],
   "source": [
    "from bosdyn.client.image import ImageClient\n",
    "image_client = robot.ensure_client(ImageClient.default_service_name)\n",
    "sources = image_client.list_image_sources()\n",
    "[source.name for source in sources]\n",
    "# This will show source names\n",
    "\n",
    "image_respones = image_client.get_image_from_sources([\"left_fisheye_image\"])[0]\n",
    "from PIL import Image\n",
    "import io\n",
    "image = Image.open(io.BytesIO(image_response.shot.image.data))\n",
    "image.show()"
   ]
  },
  {
   "cell_type": "markdown",
   "id": "452b79ba",
   "metadata": {},
   "source": [
    "# Configuring software E-Stop\n",
    "\n",
    "Before spot's motors can be enabled, an independent \"motor power authority\" need to be setup. Settings are setup for allowing spot to automatically kill motor power for safety.\n",
    "\n",
    "Here, it is a software E-Stop, not a hardware E-Stop."
   ]
  },
  {
   "cell_type": "code",
   "execution_count": null,
   "id": "69104bd8",
   "metadata": {},
   "outputs": [],
   "source": [
    "estop_client = robot.ensure_clien('estop')\n",
    "estop_client.get_status()"
   ]
  },
  {
   "cell_type": "markdown",
   "id": "b27be3b8",
   "metadata": {},
   "source": [
    "An E-Stop \"endpoint\" can be created. This endstop provides a regular heartbeat to spot. If spot doesn't receive the heartbeat after a given timeout, it will power off.\n",
    "\n",
    "It shouldn't be too small, otherwise network issues might cause a large enough delay for timeout."
   ]
  },
  {
   "cell_type": "code",
   "execution_count": null,
   "id": "56eb4138",
   "metadata": {},
   "outputs": [],
   "source": [
    "estop_endpoint = bosdyn.client.estop.EstopEndpoint(client=estop_client, name='my_estop', estop_timeout=9.0)\n",
    "estop_endpoint.force_simple_setup()\n",
    "# Then can get status again and see an endpoint is added\n",
    "estop_client.get_status()"
   ]
  },
  {
   "cell_type": "markdown",
   "id": "e0bc55f1",
   "metadata": {},
   "source": [
    "Creating the endstop above doesn't setup any process for regularly checking the E-Stop. \n",
    "To do this, an E-Stop client is created, passing the created endstop. \n",
    "This starts a background thread for reguarly checking the E-Stop."
   ]
  },
  {
   "cell_type": "code",
   "execution_count": null,
   "id": "49263b31",
   "metadata": {},
   "outputs": [],
   "source": [
    "estop_keep_alive = bosdyn.client.estop.EstopKeepAlive(estop_endpoint)\n",
    "estop_client.get_status()"
   ]
  },
  {
   "cell_type": "markdown",
   "id": "f2a69391",
   "metadata": {},
   "source": [
    "# Taking ownership of Spot (leases)"
   ]
  },
  {
   "cell_type": "markdown",
   "id": "44fea7ac",
   "metadata": {},
   "source": [
    "Multiple clients can connect to spot, but only one can have control.  \n",
    "To get control, a client needs to acquier a Lease.  \n",
    "A valid lease must be provided by every mobility command to the robot.  \n",
    "Like with authentication, the python API handles sending a lease with mobility commands."
   ]
  },
  {
   "cell_type": "code",
   "execution_count": null,
   "id": "b7179afe",
   "metadata": {},
   "outputs": [],
   "source": [
    "lease_client = robot.ensure_client('lease')\n",
    "lease_client.list_leases()"
   ]
  },
  {
   "cell_type": "code",
   "execution_count": null,
   "id": "2d88b40b",
   "metadata": {},
   "outputs": [],
   "source": [
    "lease = lease_client.acquire()\n",
    "lease_keep_alive = bosdyn.client.lease.LeaseKeepAlive(lease_client)\n",
    "lease_client.list_leases()"
   ]
  },
  {
   "cell_type": "markdown",
   "id": "36f03cfc",
   "metadata": {},
   "source": [
    "A lease must be kept in scope for the entire duration of the program using the commands.  \n",
    "The \"body\" lease takes ownership of the sub-resource \"mobilibity\".  \n",
    "If spot also has an arm, this also takes owernship of the \"full-arm\", \"arm\" and \"gripper\" sub-resources."
   ]
  },
  {
   "cell_type": "markdown",
   "id": "ebcc3664",
   "metadata": {},
   "source": [
    "# Powering on the robot\n",
    "\n",
    "robot.power_on() is a helper function for a low-level power-on command, and returns once confirmation is received."
   ]
  },
  {
   "cell_type": "code",
   "execution_count": null,
   "id": "e30ecd78",
   "metadata": {},
   "outputs": [],
   "source": [
    "robot.power_on(timeout_sec=20)\n",
    "robot.is_powered_on()"
   ]
  },
  {
   "cell_type": "markdown",
   "id": "65371c09",
   "metadata": {},
   "source": [
    "# Timesync\n",
    "\n",
    "The clocks on your machine and spot must be synced.  \n",
    "This is such that commands are processed correctly, which come with a period of time for which they are valid, for safety.\n",
    "\n",
    "The robot class maintains a timesync thread. The wait_for_sync call will start the timesync thread and isblocking.  \n",
    "This thread is responsible for maintaining synchronisation between the two clocks. (Using the NTP protocol?)"
   ]
  },
  {
   "cell_type": "code",
   "execution_count": null,
   "id": "de6fa37d",
   "metadata": {},
   "outputs": [],
   "source": [
    "robot.time_sync.wait_for_sync()"
   ]
  },
  {
   "cell_type": "markdown",
   "id": "480840a4",
   "metadata": {},
   "source": [
    "# Commanding the robot\n",
    "\n",
    "The \"RobotCommandService\" is the primary service for commanding mobility.  \n",
    "Some available commands are:\n",
    "- stand\n",
    "- sit\n",
    "- selfright\n",
    "- safe_power_off\n",
    "- velocity\n",
    "- trajectory"
   ]
  },
  {
   "cell_type": "code",
   "execution_count": null,
   "id": "fd3fbc08",
   "metadata": {},
   "outputs": [],
   "source": [
    "from bosdyn.client.robot_command import RobotCommandClient, blocking_stand\n",
    "\n",
    "command_client = robot.ensure_client(RobotCommandClient.default_service_name)\n",
    "blocking_stand(command_client, timeout_sec=10)"
   ]
  },
  {
   "cell_type": "markdown",
   "id": "508bd537",
   "metadata": {},
   "source": [
    "Can use the RobotCommandBuilder to execute more complex commands.  \n",
    "eg: Specify a target pose of the body relative to the footprint.  \n",
    "Orientation is specified in zxy instead of zyx, such that roll always occurs about a line on the xy plane."
   ]
  },
  {
   "cell_type": "code",
   "execution_count": null,
   "id": "b4626b32",
   "metadata": {},
   "outputs": [],
   "source": [
    "from bosdyn.geometry import EulerZXY\n",
    "from bosdyn.client.robot_command import RobotCommandBuilder\n",
    "\n",
    "# Stand up with a given orientation\n",
    "cmd = RobotCommandBuilder.synchro_stand_command(\n",
    "    footprint_R_body=EulerZXY(yaw=0.4, roll=0.0, pitch=0.0)\n",
    ")\n",
    "command_client.robot_command(cmd)\n",
    "    \n",
    "# Stand up with a given height\n",
    "cmd = RobotCommandBuilder.synchro_stand_command(\n",
    "    body_height=0.1\n",
    ")\n",
    "command_client.robot_command(cmd)"
   ]
  },
  {
   "cell_type": "markdown",
   "id": "957016cd",
   "metadata": {},
   "source": [
    "# Power off\n",
    "\n",
    "Setting cut_immediately to False will cause spot to gradually come to a stop and sit down before powering off. Otherwise, it will cut motor power immediately and collapse."
   ]
  },
  {
   "cell_type": "code",
   "execution_count": null,
   "id": "bd27f523",
   "metadata": {},
   "outputs": [],
   "source": [
    "robt.power_off(cut_immediately=False)"
   ]
  }
 ],
 "metadata": {
  "kernelspec": {
   "display_name": "Python 3 (ipykernel)",
   "language": "python",
   "name": "python3"
  },
  "language_info": {
   "codemirror_mode": {
    "name": "ipython",
    "version": 3
   },
   "file_extension": ".py",
   "mimetype": "text/x-python",
   "name": "python",
   "nbconvert_exporter": "python",
   "pygments_lexer": "ipython3",
   "version": "3.7.13"
  }
 },
 "nbformat": 4,
 "nbformat_minor": 5
}
